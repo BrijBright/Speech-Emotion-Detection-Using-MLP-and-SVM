{
 "cells": [
  {
   "cell_type": "code",
   "execution_count": null,
   "metadata": {
    "id": "7U4Oq_u-w96W"
   },
   "outputs": [],
   "source": []
  },
  {
   "cell_type": "markdown",
   "metadata": {
    "id": "Y0Ga6I_kAuC7"
   },
   "source": [
    "# With New Dataset"
   ]
  },
  {
   "cell_type": "code",
   "execution_count": null,
   "metadata": {
    "id": "U6OfrPYEA9g6"
   },
   "outputs": [],
   "source": [
    "import glob\n",
    "import os\n",
    "import librosa\n",
    "import time\n",
    "import seaborn as sns\n",
    "import numpy as np\n",
    "import pandas as pd\n",
    "from tqdm import tqdm"
   ]
  },
  {
   "cell_type": "code",
   "execution_count": null,
   "metadata": {
    "id": "LiZ4sYcWA_TS"
   },
   "outputs": [],
   "source": [
    "tess_emotions=['angry','disgust','fear','happy', 'neutral', 'ps', 'sad']"
   ]
  },
  {
   "cell_type": "code",
   "execution_count": null,
   "metadata": {
    "id": "IHL-Y5GjBD28"
   },
   "outputs": [],
   "source": [
    "def extract_feature(file_name):\n",
    "    \n",
    "    X, sample_rate = librosa.load(os.path.join(file_name), res_type='kaiser_fast')\n",
    "    result = np.array([])\n",
    "    \n",
    "    stft = np.abs(librosa.stft(X))\n",
    "    chromas = np.mean(librosa.feature.chroma_stft(S=stft, sr=sample_rate).T, axis=0)\n",
    "    result = np.hstack((result, chromas))\n",
    "\n",
    "    mfccs=np.mean(librosa.feature.mfcc(y=X, sr=sample_rate, n_mfcc=40).T, axis=0)\n",
    "    result=np.hstack((result, mfccs))\n",
    "\n",
    "    mels = np.mean(librosa.feature.melspectrogram(y=X, sr=sample_rate, n_mels=128).T, axis=0)\n",
    "    result = np.hstack((result, mels))\n",
    "        \n",
    "    return result"
   ]
  },
  {
   "cell_type": "code",
   "execution_count": null,
   "metadata": {
    "id": "7JOT_4QUBozw"
   },
   "outputs": [],
   "source": [
    "def load_data(): \n",
    "    sound, emo =[],[]\n",
    "\n",
    "    for file in glob.glob(\"/content/drive/MyDrive/Ajay_Final/TESS Toronto emotional speech set data/*AF_*/*.wav\"):\n",
    "      #tess toronto emotional speech set data/TESS Toronto emotional speech set data\n",
    "        file_name=os.path.basename(file)\n",
    "        emotion=file_name.split(\"_\")[2][:-4] #split and remove .wav\n",
    "        sound.append(file)\n",
    "        emo.append(emotion)\n",
    "\n",
    "    return {\"file\": sound, \"emotion\": emo}"
   ]
  },
  {
   "cell_type": "code",
   "execution_count": null,
   "metadata": {
    "colab": {
     "base_uri": "https://localhost:8080/"
    },
    "id": "bFXvPLd6CDY4",
    "outputId": "e3ff0946-a7cf-416c-cafd-2d006a562ddb"
   },
   "outputs": [
    {
     "name": "stdout",
     "output_type": "stream",
     "text": [
      "--- Data loaded. Loading time: 8.248247861862183 seconds ---\n"
     ]
    }
   ],
   "source": [
    "start_time = time.time()\n",
    "\n",
    "Trial_dict = load_data()\n",
    "\n",
    "print(\"--- Data loaded. Loading time: %s seconds ---\" % (time.time() - start_time))"
   ]
  },
  {
   "cell_type": "code",
   "execution_count": null,
   "metadata": {
    "id": "I7VGftKZCHkb"
   },
   "outputs": [],
   "source": [
    "X = pd.DataFrame(Trial_dict[\"file\"])\n",
    "y = pd.DataFrame(Trial_dict[\"emotion\"])"
   ]
  },
  {
   "cell_type": "code",
   "execution_count": null,
   "metadata": {
    "colab": {
     "base_uri": "https://localhost:8080/"
    },
    "id": "dqTkp_WGCLFr",
    "outputId": "7278e3bd-b248-4e48-a0a2-3a07223d11e4"
   },
   "outputs": [
    {
     "data": {
      "text/plain": [
       "((2398, 1), (2398, 1))"
      ]
     },
     "execution_count": 9,
     "metadata": {},
     "output_type": "execute_result"
    }
   ],
   "source": [
    "X.shape, y.shape"
   ]
  },
  {
   "cell_type": "code",
   "execution_count": null,
   "metadata": {
    "colab": {
     "base_uri": "https://localhost:8080/"
    },
    "id": "70AXB67pCNqf",
    "outputId": "b35c2745-cf4f-4ae2-ac84-5f9db5af4129"
   },
   "outputs": [
    {
     "data": {
      "text/plain": [
       "angry      400\n",
       "disgust    400\n",
       "fear       400\n",
       "happy      400\n",
       "neutral    372\n",
       "ps         226\n",
       "sad        200\n",
       "dtype: int64"
      ]
     },
     "execution_count": 10,
     "metadata": {},
     "output_type": "execute_result"
    }
   ],
   "source": [
    "y.value_counts()"
   ]
  },
  {
   "cell_type": "code",
   "execution_count": null,
   "metadata": {
    "colab": {
     "base_uri": "https://localhost:8080/"
    },
    "id": "55wY8YJQzQbh",
    "outputId": "76455f69-1060-4c55-e399-bbf428592f80"
   },
   "outputs": [
    {
     "name": "stdout",
     "output_type": "stream",
     "text": [
      "Looking in indexes: https://pypi.org/simple, https://us-python.pkg.dev/colab-wheels/public/simple/\n",
      "Collecting resampy\n",
      "  Downloading resampy-0.4.2-py3-none-any.whl (3.1 MB)\n",
      "\u001b[2K     \u001b[90m━━━━━━━━━━━━━━━━━━━━━━━━━━━━━━━━━━━━━━━━\u001b[0m \u001b[32m3.1/3.1 MB\u001b[0m \u001b[31m41.4 MB/s\u001b[0m eta \u001b[36m0:00:00\u001b[0m\n",
      "\u001b[?25hRequirement already satisfied: numpy>=1.17 in /usr/local/lib/python3.10/dist-packages (from resampy) (1.22.4)\n",
      "Requirement already satisfied: numba>=0.53 in /usr/local/lib/python3.10/dist-packages (from resampy) (0.56.4)\n",
      "Requirement already satisfied: llvmlite<0.40,>=0.39.0dev0 in /usr/local/lib/python3.10/dist-packages (from numba>=0.53->resampy) (0.39.1)\n",
      "Requirement already satisfied: setuptools in /usr/local/lib/python3.10/dist-packages (from numba>=0.53->resampy) (67.7.2)\n",
      "Installing collected packages: resampy\n",
      "Successfully installed resampy-0.4.2\n"
     ]
    }
   ],
   "source": [
    "!pip install resampy\n"
   ]
  },
  {
   "cell_type": "code",
   "execution_count": null,
   "metadata": {
    "colab": {
     "base_uri": "https://localhost:8080/"
    },
    "id": "obXqAHF7CVcL",
    "outputId": "a814b62e-85ab-4e6b-8078-c800514594be"
   },
   "outputs": [
    {
     "name": "stderr",
     "output_type": "stream",
     "text": [
      "100%|██████████| 2398/2398 [20:26<00:00,  1.96it/s]\n"
     ]
    }
   ],
   "source": [
    "X_features =[]\n",
    "\n",
    "for x in tqdm(X[0]):\n",
    "#     print(x)\n",
    "    X_features.append(extract_feature(x))"
   ]
  },
  {
   "cell_type": "code",
   "execution_count": null,
   "metadata": {
    "id": "GjJFJm-KFPN0"
   },
   "outputs": [],
   "source": [
    "X_features = pd.DataFrame(X_features)"
   ]
  },
  {
   "cell_type": "code",
   "execution_count": null,
   "metadata": {
    "id": "4ClS_qe-FPGE"
   },
   "outputs": [],
   "source": [
    "y=y.rename(columns= {0: 'emotion'})"
   ]
  },
  {
   "cell_type": "code",
   "execution_count": null,
   "metadata": {
    "id": "SWHtMxYIFWLc"
   },
   "outputs": [],
   "source": [
    "#concatinating the attributes and label into a single dataframe\n",
    "data = pd.concat([X_features, y], axis =1)"
   ]
  },
  {
   "cell_type": "code",
   "execution_count": null,
   "metadata": {
    "colab": {
     "base_uri": "https://localhost:8080/",
     "height": 386
    },
    "id": "jmo2kz7lFZot",
    "outputId": "2575572e-90b2-436b-d981-22339d011279"
   },
   "outputs": [
    {
     "data": {
      "text/html": [
       "\n",
       "  <div id=\"df-3a4dda78-5fec-4af8-9c92-46baa8cd4e14\">\n",
       "    <div class=\"colab-df-container\">\n",
       "      <div>\n",
       "<style scoped>\n",
       "    .dataframe tbody tr th:only-of-type {\n",
       "        vertical-align: middle;\n",
       "    }\n",
       "\n",
       "    .dataframe tbody tr th {\n",
       "        vertical-align: top;\n",
       "    }\n",
       "\n",
       "    .dataframe thead th {\n",
       "        text-align: right;\n",
       "    }\n",
       "</style>\n",
       "<table border=\"1\" class=\"dataframe\">\n",
       "  <thead>\n",
       "    <tr style=\"text-align: right;\">\n",
       "      <th></th>\n",
       "      <th>0</th>\n",
       "      <th>1</th>\n",
       "      <th>2</th>\n",
       "      <th>3</th>\n",
       "      <th>4</th>\n",
       "      <th>5</th>\n",
       "      <th>6</th>\n",
       "      <th>7</th>\n",
       "      <th>8</th>\n",
       "      <th>9</th>\n",
       "      <th>...</th>\n",
       "      <th>171</th>\n",
       "      <th>172</th>\n",
       "      <th>173</th>\n",
       "      <th>174</th>\n",
       "      <th>175</th>\n",
       "      <th>176</th>\n",
       "      <th>177</th>\n",
       "      <th>178</th>\n",
       "      <th>179</th>\n",
       "      <th>emotion</th>\n",
       "    </tr>\n",
       "  </thead>\n",
       "  <tbody>\n",
       "    <tr>\n",
       "      <th>0</th>\n",
       "      <td>0.478789</td>\n",
       "      <td>0.612674</td>\n",
       "      <td>0.639596</td>\n",
       "      <td>0.464285</td>\n",
       "      <td>0.345020</td>\n",
       "      <td>0.343952</td>\n",
       "      <td>0.318087</td>\n",
       "      <td>0.314659</td>\n",
       "      <td>0.417010</td>\n",
       "      <td>0.477342</td>\n",
       "      <td>...</td>\n",
       "      <td>0.000338</td>\n",
       "      <td>0.000301</td>\n",
       "      <td>0.000228</td>\n",
       "      <td>0.000092</td>\n",
       "      <td>0.000034</td>\n",
       "      <td>0.000011</td>\n",
       "      <td>1.345511e-06</td>\n",
       "      <td>1.224550e-07</td>\n",
       "      <td>4.787918e-09</td>\n",
       "      <td>fear</td>\n",
       "    </tr>\n",
       "    <tr>\n",
       "      <th>1</th>\n",
       "      <td>0.475334</td>\n",
       "      <td>0.640100</td>\n",
       "      <td>0.599568</td>\n",
       "      <td>0.374930</td>\n",
       "      <td>0.278978</td>\n",
       "      <td>0.241561</td>\n",
       "      <td>0.200799</td>\n",
       "      <td>0.223850</td>\n",
       "      <td>0.335764</td>\n",
       "      <td>0.420309</td>\n",
       "      <td>...</td>\n",
       "      <td>0.001001</td>\n",
       "      <td>0.000631</td>\n",
       "      <td>0.000459</td>\n",
       "      <td>0.000153</td>\n",
       "      <td>0.000066</td>\n",
       "      <td>0.000016</td>\n",
       "      <td>2.303839e-06</td>\n",
       "      <td>1.877505e-07</td>\n",
       "      <td>4.371043e-09</td>\n",
       "      <td>fear</td>\n",
       "    </tr>\n",
       "    <tr>\n",
       "      <th>2</th>\n",
       "      <td>0.493687</td>\n",
       "      <td>0.570148</td>\n",
       "      <td>0.572601</td>\n",
       "      <td>0.401132</td>\n",
       "      <td>0.363959</td>\n",
       "      <td>0.288487</td>\n",
       "      <td>0.209684</td>\n",
       "      <td>0.244891</td>\n",
       "      <td>0.312781</td>\n",
       "      <td>0.354148</td>\n",
       "      <td>...</td>\n",
       "      <td>0.000730</td>\n",
       "      <td>0.000522</td>\n",
       "      <td>0.000200</td>\n",
       "      <td>0.000115</td>\n",
       "      <td>0.000063</td>\n",
       "      <td>0.000009</td>\n",
       "      <td>1.182844e-06</td>\n",
       "      <td>8.371684e-08</td>\n",
       "      <td>3.163346e-09</td>\n",
       "      <td>fear</td>\n",
       "    </tr>\n",
       "    <tr>\n",
       "      <th>3</th>\n",
       "      <td>0.445526</td>\n",
       "      <td>0.366768</td>\n",
       "      <td>0.391022</td>\n",
       "      <td>0.495336</td>\n",
       "      <td>0.498817</td>\n",
       "      <td>0.385445</td>\n",
       "      <td>0.307515</td>\n",
       "      <td>0.295826</td>\n",
       "      <td>0.294041</td>\n",
       "      <td>0.325202</td>\n",
       "      <td>...</td>\n",
       "      <td>0.000252</td>\n",
       "      <td>0.000274</td>\n",
       "      <td>0.000196</td>\n",
       "      <td>0.000083</td>\n",
       "      <td>0.000030</td>\n",
       "      <td>0.000008</td>\n",
       "      <td>1.060337e-06</td>\n",
       "      <td>9.511143e-08</td>\n",
       "      <td>3.491790e-09</td>\n",
       "      <td>fear</td>\n",
       "    </tr>\n",
       "    <tr>\n",
       "      <th>4</th>\n",
       "      <td>0.419356</td>\n",
       "      <td>0.627757</td>\n",
       "      <td>0.725408</td>\n",
       "      <td>0.508541</td>\n",
       "      <td>0.364749</td>\n",
       "      <td>0.299854</td>\n",
       "      <td>0.257328</td>\n",
       "      <td>0.232664</td>\n",
       "      <td>0.322004</td>\n",
       "      <td>0.386167</td>\n",
       "      <td>...</td>\n",
       "      <td>0.000250</td>\n",
       "      <td>0.000205</td>\n",
       "      <td>0.000123</td>\n",
       "      <td>0.000098</td>\n",
       "      <td>0.000034</td>\n",
       "      <td>0.000009</td>\n",
       "      <td>9.279397e-07</td>\n",
       "      <td>7.323716e-08</td>\n",
       "      <td>2.077798e-09</td>\n",
       "      <td>fear</td>\n",
       "    </tr>\n",
       "  </tbody>\n",
       "</table>\n",
       "<p>5 rows × 181 columns</p>\n",
       "</div>\n",
       "      <button class=\"colab-df-convert\" onclick=\"convertToInteractive('df-3a4dda78-5fec-4af8-9c92-46baa8cd4e14')\"\n",
       "              title=\"Convert this dataframe to an interactive table.\"\n",
       "              style=\"display:none;\">\n",
       "        \n",
       "  <svg xmlns=\"http://www.w3.org/2000/svg\" height=\"24px\"viewBox=\"0 0 24 24\"\n",
       "       width=\"24px\">\n",
       "    <path d=\"M0 0h24v24H0V0z\" fill=\"none\"/>\n",
       "    <path d=\"M18.56 5.44l.94 2.06.94-2.06 2.06-.94-2.06-.94-.94-2.06-.94 2.06-2.06.94zm-11 1L8.5 8.5l.94-2.06 2.06-.94-2.06-.94L8.5 2.5l-.94 2.06-2.06.94zm10 10l.94 2.06.94-2.06 2.06-.94-2.06-.94-.94-2.06-.94 2.06-2.06.94z\"/><path d=\"M17.41 7.96l-1.37-1.37c-.4-.4-.92-.59-1.43-.59-.52 0-1.04.2-1.43.59L10.3 9.45l-7.72 7.72c-.78.78-.78 2.05 0 2.83L4 21.41c.39.39.9.59 1.41.59.51 0 1.02-.2 1.41-.59l7.78-7.78 2.81-2.81c.8-.78.8-2.07 0-2.86zM5.41 20L4 18.59l7.72-7.72 1.47 1.35L5.41 20z\"/>\n",
       "  </svg>\n",
       "      </button>\n",
       "      \n",
       "  <style>\n",
       "    .colab-df-container {\n",
       "      display:flex;\n",
       "      flex-wrap:wrap;\n",
       "      gap: 12px;\n",
       "    }\n",
       "\n",
       "    .colab-df-convert {\n",
       "      background-color: #E8F0FE;\n",
       "      border: none;\n",
       "      border-radius: 50%;\n",
       "      cursor: pointer;\n",
       "      display: none;\n",
       "      fill: #1967D2;\n",
       "      height: 32px;\n",
       "      padding: 0 0 0 0;\n",
       "      width: 32px;\n",
       "    }\n",
       "\n",
       "    .colab-df-convert:hover {\n",
       "      background-color: #E2EBFA;\n",
       "      box-shadow: 0px 1px 2px rgba(60, 64, 67, 0.3), 0px 1px 3px 1px rgba(60, 64, 67, 0.15);\n",
       "      fill: #174EA6;\n",
       "    }\n",
       "\n",
       "    [theme=dark] .colab-df-convert {\n",
       "      background-color: #3B4455;\n",
       "      fill: #D2E3FC;\n",
       "    }\n",
       "\n",
       "    [theme=dark] .colab-df-convert:hover {\n",
       "      background-color: #434B5C;\n",
       "      box-shadow: 0px 1px 3px 1px rgba(0, 0, 0, 0.15);\n",
       "      filter: drop-shadow(0px 1px 2px rgba(0, 0, 0, 0.3));\n",
       "      fill: #FFFFFF;\n",
       "    }\n",
       "  </style>\n",
       "\n",
       "      <script>\n",
       "        const buttonEl =\n",
       "          document.querySelector('#df-3a4dda78-5fec-4af8-9c92-46baa8cd4e14 button.colab-df-convert');\n",
       "        buttonEl.style.display =\n",
       "          google.colab.kernel.accessAllowed ? 'block' : 'none';\n",
       "\n",
       "        async function convertToInteractive(key) {\n",
       "          const element = document.querySelector('#df-3a4dda78-5fec-4af8-9c92-46baa8cd4e14');\n",
       "          const dataTable =\n",
       "            await google.colab.kernel.invokeFunction('convertToInteractive',\n",
       "                                                     [key], {});\n",
       "          if (!dataTable) return;\n",
       "\n",
       "          const docLinkHtml = 'Like what you see? Visit the ' +\n",
       "            '<a target=\"_blank\" href=https://colab.research.google.com/notebooks/data_table.ipynb>data table notebook</a>'\n",
       "            + ' to learn more about interactive tables.';\n",
       "          element.innerHTML = '';\n",
       "          dataTable['output_type'] = 'display_data';\n",
       "          await google.colab.output.renderOutput(dataTable, element);\n",
       "          const docLink = document.createElement('div');\n",
       "          docLink.innerHTML = docLinkHtml;\n",
       "          element.appendChild(docLink);\n",
       "        }\n",
       "      </script>\n",
       "    </div>\n",
       "  </div>\n",
       "  "
      ],
      "text/plain": [
       "          0         1         2         3         4         5         6  \\\n",
       "0  0.478789  0.612674  0.639596  0.464285  0.345020  0.343952  0.318087   \n",
       "1  0.475334  0.640100  0.599568  0.374930  0.278978  0.241561  0.200799   \n",
       "2  0.493687  0.570148  0.572601  0.401132  0.363959  0.288487  0.209684   \n",
       "3  0.445526  0.366768  0.391022  0.495336  0.498817  0.385445  0.307515   \n",
       "4  0.419356  0.627757  0.725408  0.508541  0.364749  0.299854  0.257328   \n",
       "\n",
       "          7         8         9  ...       171       172       173       174  \\\n",
       "0  0.314659  0.417010  0.477342  ...  0.000338  0.000301  0.000228  0.000092   \n",
       "1  0.223850  0.335764  0.420309  ...  0.001001  0.000631  0.000459  0.000153   \n",
       "2  0.244891  0.312781  0.354148  ...  0.000730  0.000522  0.000200  0.000115   \n",
       "3  0.295826  0.294041  0.325202  ...  0.000252  0.000274  0.000196  0.000083   \n",
       "4  0.232664  0.322004  0.386167  ...  0.000250  0.000205  0.000123  0.000098   \n",
       "\n",
       "        175       176           177           178           179  emotion  \n",
       "0  0.000034  0.000011  1.345511e-06  1.224550e-07  4.787918e-09     fear  \n",
       "1  0.000066  0.000016  2.303839e-06  1.877505e-07  4.371043e-09     fear  \n",
       "2  0.000063  0.000009  1.182844e-06  8.371684e-08  3.163346e-09     fear  \n",
       "3  0.000030  0.000008  1.060337e-06  9.511143e-08  3.491790e-09     fear  \n",
       "4  0.000034  0.000009  9.279397e-07  7.323716e-08  2.077798e-09     fear  \n",
       "\n",
       "[5 rows x 181 columns]"
      ]
     },
     "execution_count": 16,
     "metadata": {},
     "output_type": "execute_result"
    }
   ],
   "source": [
    "data.head()"
   ]
  },
  {
   "cell_type": "code",
   "execution_count": null,
   "metadata": {
    "id": "bYpPUUfOFenh"
   },
   "outputs": [],
   "source": [
    "data = data.reindex(np.random.permutation(data.index))"
   ]
  },
  {
   "cell_type": "code",
   "execution_count": null,
   "metadata": {
    "id": "Gp_myp99FxDg"
   },
   "outputs": [],
   "source": [
    "# Storing shuffled ravdess and tess data to avoid loading again\n",
    "data.to_csv(\"TESS_FEATURES.csv\")"
   ]
  },
  {
   "cell_type": "code",
   "execution_count": null,
   "metadata": {
    "colab": {
     "base_uri": "https://localhost:8080/"
    },
    "id": "oNsKcqFWF0T8",
    "outputId": "d6e5d797-dcb5-4fbb-83d4-f2602179a967"
   },
   "outputs": [
    {
     "name": "stdout",
     "output_type": "stream",
     "text": [
      "data loaded in 0.18659615516662598ms\n",
      "   Unnamed: 0         0         1         2         3         4         5  \\\n",
      "0        1937  0.589752  0.655105  0.622472  0.467864  0.359807  0.373271   \n",
      "1        1837  0.585028  0.590577  0.519436  0.398438  0.415745  0.476438   \n",
      "2         117  0.509394  0.767948  0.682082  0.427226  0.351412  0.304399   \n",
      "3        2013  0.570064  0.643858  0.696257  0.453709  0.306635  0.328552   \n",
      "4        2136  0.407111  0.417460  0.524787  0.328639  0.250336  0.272010   \n",
      "\n",
      "          6         7         8  ...       171       172       173       174  \\\n",
      "0  0.439777  0.518035  0.517397  ...  0.025214  0.029523  0.024999  0.010959   \n",
      "1  0.506514  0.508056  0.489093  ...  0.038016  0.034590  0.036186  0.009704   \n",
      "2  0.284749  0.326571  0.415226  ...  0.000432  0.000455  0.000232  0.000133   \n",
      "3  0.354625  0.411947  0.335903  ...  0.012294  0.014540  0.015491  0.005190   \n",
      "4  0.351044  0.450936  0.378664  ...  0.008149  0.009414  0.007612  0.003688   \n",
      "\n",
      "        175       176       177           178           179  emotion  \n",
      "0  0.003367  0.001240  0.000238  2.153353e-05  8.925766e-07     fear  \n",
      "1  0.005962  0.001430  0.000173  2.764986e-05  1.088166e-06     fear  \n",
      "2  0.000043  0.000018  0.000003  1.826594e-07  5.428753e-09     fear  \n",
      "3  0.001622  0.000549  0.000202  2.454396e-05  8.697228e-07    happy  \n",
      "4  0.000861  0.000226  0.000031  5.727172e-06  2.794535e-07    happy  \n",
      "\n",
      "[5 rows x 182 columns]\n"
     ]
    }
   ],
   "source": [
    "starting_time = time.time()\n",
    "data = pd.read_csv(\"/content/TESS_FEATURES.csv\")\n",
    "print(\"data loaded in \" + str(time.time()-starting_time) + \"ms\")\n",
    "\n",
    "print(data.head())"
   ]
  },
  {
   "cell_type": "code",
   "execution_count": null,
   "metadata": {
    "colab": {
     "base_uri": "https://localhost:8080/"
    },
    "id": "IR5olAQRF_LK",
    "outputId": "a110af40-5490-4bc6-c881-22af63ca8260"
   },
   "outputs": [
    {
     "data": {
      "text/plain": [
       "(2398, 182)"
      ]
     },
     "execution_count": 20,
     "metadata": {},
     "output_type": "execute_result"
    }
   ],
   "source": [
    "data.shape"
   ]
  },
  {
   "cell_type": "code",
   "execution_count": null,
   "metadata": {
    "colab": {
     "base_uri": "https://localhost:8080/"
    },
    "id": "R7x_veP0GD8b",
    "outputId": "d07e4648-94cd-4db2-df76-44e8fd19a763"
   },
   "outputs": [
    {
     "data": {
      "text/plain": [
       "Index(['Unnamed: 0', '0', '1', '2', '3', '4', '5', '6', '7', '8',\n",
       "       ...\n",
       "       '171', '172', '173', '174', '175', '176', '177', '178', '179',\n",
       "       'emotion'],\n",
       "      dtype='object', length=182)"
      ]
     },
     "execution_count": 21,
     "metadata": {},
     "output_type": "execute_result"
    }
   ],
   "source": [
    "#printing all columns\n",
    "data.columns"
   ]
  },
  {
   "cell_type": "code",
   "execution_count": null,
   "metadata": {
    "id": "xATevwwdGG9s"
   },
   "outputs": [],
   "source": [
    "#dropping the column Unnamed: 0 to removed shuffled index\n",
    "data = data.drop('Unnamed: 0',axis=1)"
   ]
  },
  {
   "cell_type": "code",
   "execution_count": null,
   "metadata": {
    "colab": {
     "base_uri": "https://localhost:8080/"
    },
    "id": "nDIfA3p6GKPi",
    "outputId": "754e6c49-7822-45fa-f712-58289ffba8ba"
   },
   "outputs": [
    {
     "data": {
      "text/plain": [
       "Index(['0', '1', '2', '3', '4', '5', '6', '7', '8', '9',\n",
       "       ...\n",
       "       '171', '172', '173', '174', '175', '176', '177', '178', '179',\n",
       "       'emotion'],\n",
       "      dtype='object', length=181)"
      ]
     },
     "execution_count": 23,
     "metadata": {},
     "output_type": "execute_result"
    }
   ],
   "source": [
    "data.columns"
   ]
  },
  {
   "cell_type": "code",
   "execution_count": null,
   "metadata": {
    "id": "iMK4AysrGNJL"
   },
   "outputs": [],
   "source": [
    "#separating features and target outputs\n",
    "X = data.drop('emotion', axis = 1).values\n",
    "y = data['emotion'].values"
   ]
  },
  {
   "cell_type": "code",
   "execution_count": null,
   "metadata": {
    "colab": {
     "base_uri": "https://localhost:8080/"
    },
    "id": "Ptvh-0egGRLJ",
    "outputId": "d35766b9-27a6-4e26-a210-79dd06b923df"
   },
   "outputs": [
    {
     "name": "stdout",
     "output_type": "stream",
     "text": [
      "['fear' 'fear' 'fear' ... 'happy' 'sad' 'fear']\n"
     ]
    }
   ],
   "source": [
    "\n",
    "\n",
    "print(y)"
   ]
  },
  {
   "cell_type": "code",
   "execution_count": null,
   "metadata": {
    "id": "3kbHXFvxGXSC"
   },
   "outputs": [],
   "source": [
    "import pandas as pd\n",
    "import numpy as np\n",
    "import matplotlib.pyplot as plt\n",
    "%matplotlib inline"
   ]
  },
  {
   "cell_type": "code",
   "execution_count": null,
   "metadata": {
    "colab": {
     "base_uri": "https://localhost:8080/"
    },
    "id": "NXTa8RxlGf0i",
    "outputId": "7e5342e6-a1c7-48bd-b93b-844a1721c2da"
   },
   "outputs": [
    {
     "data": {
      "text/plain": [
       "((2398, 180), (2398,))"
      ]
     },
     "execution_count": 27,
     "metadata": {},
     "output_type": "execute_result"
    }
   ],
   "source": [
    "X.shape, y.shape"
   ]
  },
  {
   "cell_type": "code",
   "execution_count": null,
   "metadata": {
    "colab": {
     "base_uri": "https://localhost:8080/"
    },
    "id": "f4kByBqdGjhw",
    "outputId": "5795d981-615e-4c09-c439-c92ead99e682"
   },
   "outputs": [
    {
     "data": {
      "text/plain": [
       "array(['angry', 'disgust', 'fear', 'happy', 'neutral', 'ps', 'sad'],\n",
       "      dtype=object)"
      ]
     },
     "execution_count": 28,
     "metadata": {},
     "output_type": "execute_result"
    }
   ],
   "source": [
    "np.unique(y)"
   ]
  },
  {
   "cell_type": "code",
   "execution_count": null,
   "metadata": {
    "id": "A_ZLxzpUGmtY"
   },
   "outputs": [],
   "source": [
    "from sklearn.model_selection import train_test_split\n",
    "from sklearn.metrics import classification_report, confusion_matrix,accuracy_score\n",
    "from sklearn.preprocessing import StandardScaler\n",
    "from sklearn.pipeline import Pipeline"
   ]
  },
  {
   "cell_type": "code",
   "execution_count": null,
   "metadata": {
    "id": "XECJzIX9Gmho"
   },
   "outputs": [],
   "source": [
    "from sklearn.model_selection import RepeatedStratifiedKFold\n",
    "from sklearn.model_selection import cross_val_score, cross_validate, cross_val_predict\n",
    "\n",
    "X_train, X_test, y_train, y_test = train_test_split(X, y, test_size = 0.50, random_state=0)\n",
    "\n",
    "cv = RepeatedStratifiedKFold(n_splits=5, n_repeats=10)"
   ]
  },
  {
   "cell_type": "code",
   "execution_count": null,
   "metadata": {
    "colab": {
     "base_uri": "https://localhost:8080/"
    },
    "id": "yXG6A4YMGu1Z",
    "outputId": "e267fb77-1ec8-419f-a4d4-9d4a50600829"
   },
   "outputs": [
    {
     "name": "stdout",
     "output_type": "stream",
     "text": [
      "Accuracy with Scaling: 0.9824854045037531\n"
     ]
    },
    {
     "name": "stderr",
     "output_type": "stream",
     "text": [
      "/usr/local/lib/python3.10/dist-packages/sklearn/svm/_base.py:1244: ConvergenceWarning: Liblinear failed to converge, increase the number of iterations.\n",
      "  warnings.warn(\n"
     ]
    }
   ],
   "source": [
    "from sklearn.svm import LinearSVC\n",
    "\n",
    "steps2 = [('scaler', StandardScaler()),\n",
    "          ('LinearSVM', LinearSVC())]\n",
    "\n",
    "svml = Pipeline(steps2)\n",
    "\n",
    "svml_res = svml.fit(X_train, y_train)\n",
    "\n",
    "print('Accuracy with Scaling: {}'.format(svml.score(X_test, y_test)))"
   ]
  },
  {
   "cell_type": "code",
   "execution_count": null,
   "metadata": {
    "id": "TbnBzhKTjOrB"
   },
   "outputs": [],
   "source": []
  },
  {
   "cell_type": "code",
   "execution_count": null,
   "metadata": {
    "colab": {
     "base_uri": "https://localhost:8080/"
    },
    "id": "w77XlnNoHjRK",
    "outputId": "c5fe055c-32fd-43b9-ac45-041ac2eb922d"
   },
   "outputs": [
    {
     "data": {
      "text/plain": [
       "array(['ps', 'neutral', 'neutral', ..., 'angry', 'disgust', 'fear'],\n",
       "      dtype=object)"
      ]
     },
     "execution_count": 32,
     "metadata": {},
     "output_type": "execute_result"
    }
   ],
   "source": [
    " import joblib\n",
    "\n",
    "# Save the trained model to a file\n",
    "joblib.dump(svml_res, 'svm_model.joblib')\n",
    "\n",
    "# Load the saved model from the file\n",
    "svm_loaded = joblib.load('svm_model.joblib')\n",
    "\n",
    "# Use the loaded model for prediction\n",
    "svm_loaded.predict(X_test)"
   ]
  },
  {
   "cell_type": "code",
   "execution_count": null,
   "metadata": {
    "colab": {
     "base_uri": "https://localhost:8080/"
    },
    "id": "hRVICbixG2ji",
    "outputId": "683942ea-507b-468f-c0dd-9417b6cc5144"
   },
   "outputs": [
    {
     "name": "stdout",
     "output_type": "stream",
     "text": [
      "----train accuracy score 100.0 ----\n",
      "----test accuracy score 98.24854045037532 ----\n"
     ]
    }
   ],
   "source": [
    "svml_train_acc = float(svml_res.score(X_train, y_train)*100)\n",
    "print(\"----train accuracy score %s ----\" % svml_train_acc)\n",
    "\n",
    "svml_test_acc = float(svml_res.score(X_test, y_test)*100)\n",
    "print(\"----test accuracy score %s ----\" % svml_test_acc)"
   ]
  },
  {
   "cell_type": "code",
   "execution_count": null,
   "metadata": {
    "colab": {
     "base_uri": "https://localhost:8080/"
    },
    "id": "wozRp9KoG64a",
    "outputId": "c93e0749-d672-4424-9e66-00d5f648040e"
   },
   "outputs": [
    {
     "name": "stdout",
     "output_type": "stream",
     "text": [
      "[0.99375    0.99583333 0.9875     0.98121086 0.99164927 0.98541667\n",
      " 0.98541667 0.98958333 0.98956159 0.99582463 0.9875     0.99166667\n",
      " 0.98541667 0.99582463 0.98956159 0.98541667 0.98958333 0.98333333\n",
      " 0.98956159 0.9874739  0.99791667 0.9875     0.99791667 0.98329854\n",
      " 0.98538622 0.99166667 0.99166667 0.99166667 0.98329854 0.98956159\n",
      " 0.98958333 0.98958333 0.98958333 0.99164927 0.9874739  0.98541667\n",
      " 0.98958333 0.9875     0.99373695 0.99373695 0.99583333 0.98541667\n",
      " 0.9875     0.98538622 0.98329854 0.98541667 0.98125    0.99166667\n",
      " 0.99164927 0.99164927]\n",
      "Average: 0.9891575330549754\n"
     ]
    }
   ],
   "source": [
    "svml_score = cross_val_score(svml, X, y, cv=cv, n_jobs=-1)\n",
    "print(svml_score)\n",
    "print(\"Average:\", np.average(svml_score))"
   ]
  },
  {
   "cell_type": "code",
   "execution_count": null,
   "metadata": {
    "colab": {
     "base_uri": "https://localhost:8080/"
    },
    "id": "uAAgt9AvHGYG",
    "outputId": "67cec8c2-0875-4cb5-c629-19bb75b9a2d0"
   },
   "outputs": [
    {
     "name": "stdout",
     "output_type": "stream",
     "text": [
      "['ps' 'neutral' 'neutral' ... 'angry' 'disgust' 'fear']\n"
     ]
    }
   ],
   "source": [
    "svml_pred = svml_res.predict(X_test)\n",
    "print(svml_pred)"
   ]
  },
  {
   "cell_type": "code",
   "execution_count": null,
   "metadata": {
    "colab": {
     "base_uri": "https://localhost:8080/",
     "height": 732
    },
    "id": "bVeTo2DrHK04",
    "outputId": "4cca254a-fb79-4c1c-a49d-5b7e78c672a8"
   },
   "outputs": [
    {
     "name": "stdout",
     "output_type": "stream",
     "text": [
      "              precision    recall  f1-score   support\n",
      "\n",
      "       angry       1.00      0.98      0.99       210\n",
      "     disgust       0.98      0.99      0.98       197\n",
      "        fear       0.99      0.95      0.97       195\n",
      "       happy       0.97      0.99      0.98       185\n",
      "     neutral       1.00      1.00      1.00       195\n",
      "          ps       0.93      0.97      0.94       115\n",
      "         sad       1.00      1.00      1.00       102\n",
      "\n",
      "    accuracy                           0.98      1199\n",
      "   macro avg       0.98      0.98      0.98      1199\n",
      "weighted avg       0.98      0.98      0.98      1199\n",
      "\n",
      "----accuracy score 98.24854045037532 ----\n"
     ]
    },
    {
     "data": {
      "image/png": "[encoded data removed]",
      "text/plain": [
       "<Figure size 640x480 with 2 Axes>"
      ]
     },
     "metadata": {},
     "output_type": "display_data"
    }
   ],
   "source": [
    "print(classification_report(y_test,svml_pred))\n",
    "\n",
    "acc_svml = float(accuracy_score(y_test,svml_pred))*100\n",
    "print(\"----accuracy score %s ----\" % acc_svml)\n",
    "\n",
    "cm_svml = confusion_matrix(y_test,svml_pred)\n",
    "\n",
    "# df_cm_svml = pd.DataFrame(cm_svml)\n",
    "# sn.heatmap(df_cm_svml, annot=True, fmt='')\n",
    "# plt.show()\n",
    "\n",
    "ax= plt.subplot()\n",
    "sns.heatmap(cm_svml, annot=True, fmt='g', ax=ax);\n",
    "\n",
    "# labels, title and ticks\n",
    "ax.set_xlabel('Predicted labels');\n",
    "ax.set_ylabel('True labels'); \n",
    "ax.set_title('Confusion Matrix (SVM )'); \n",
    "ax.xaxis.set_ticklabels(tess_emotions);\n",
    "ax.yaxis.set_ticklabels(tess_emotions);"
   ]
  },
  {
   "cell_type": "code",
   "execution_count": null,
   "metadata": {
    "id": "IpfioYN5HR2o"
   },
   "outputs": [],
   "source": []
  },
  {
   "cell_type": "code",
   "execution_count": null,
   "metadata": {
    "id": "LGzmT25gkDAB"
   },
   "outputs": [],
   "source": []
  },
  {
   "cell_type": "markdown",
   "metadata": {
    "id": "_hfrF57iILg5"
   },
   "source": [
    "# **MLP Classifier**"
   ]
  },
  {
   "cell_type": "code",
   "execution_count": null,
   "metadata": {
    "colab": {
     "base_uri": "https://localhost:8080/"
    },
    "id": "-SP2LspmkDWf",
    "outputId": "2b114c65-b49f-436a-f344-0dd25371a7a2"
   },
   "outputs": [
    {
     "name": "stdout",
     "output_type": "stream",
     "text": [
      "Accuracy with Scaling: 0.994161801501251\n"
     ]
    }
   ],
   "source": [
    "from sklearn.neural_network import MLPClassifier\n",
    "\n",
    "steps3 = [('scaler', StandardScaler()),\n",
    "        ('MLP', MLPClassifier())]\n",
    "        \n",
    "pipeline_mlp = Pipeline(steps3)\n",
    "\n",
    "mlp = pipeline_mlp.fit(X_train, y_train)\n",
    "\n",
    "print('Accuracy with Scaling: {}'.format(mlp.score(X_test, y_test)))"
   ]
  },
  {
   "cell_type": "code",
   "execution_count": null,
   "metadata": {
    "colab": {
     "base_uri": "https://localhost:8080/"
    },
    "id": "h1HpB_AGkHbv",
    "outputId": "7de723db-4ef0-4a1e-f7b0-6f215aa03df7"
   },
   "outputs": [
    {
     "name": "stdout",
     "output_type": "stream",
     "text": [
      "----train accuracy score 100.0 ----\n",
      "----test accuracy score 100.0 ----\n"
     ]
    }
   ],
   "source": [
    "mlp_train_acc = float(mlp.score(X_train, y_train)*100)\n",
    "print(\"----train accuracy score %s ----\" % mlp_train_acc)\n",
    "\n",
    "mlp_test_acc = float(mlp.score(X_test, y_test)*100)\n",
    "print(\"----test accuracy score %s ----\" % mlp_train_acc)"
   ]
  },
  {
   "cell_type": "code",
   "execution_count": null,
   "metadata": {
    "colab": {
     "base_uri": "https://localhost:8080/"
    },
    "id": "yx-huRJ-kNaz",
    "outputId": "d8668b5d-7bc4-4f2f-e3eb-2f3b808e262c"
   },
   "outputs": [
    {
     "name": "stdout",
     "output_type": "stream",
     "text": [
      "[0.99791667 0.99166667 0.99583333 0.99373695 0.99582463 0.99375\n",
      " 0.99583333 1.         0.99582463 0.99373695 0.99791667 0.99375\n",
      " 0.99791667 0.99582463 0.99791232 0.99375    0.99791667 0.99583333\n",
      " 0.99582463 0.99582463 0.99583333 0.99375    0.99583333 0.99582463\n",
      " 0.99164927 0.99791667 0.99583333 1.         0.99373695 1.\n",
      " 0.99583333 0.99375    1.         0.98956159 0.99373695 0.99375\n",
      " 0.99791667 1.         0.99582463 0.99582463 0.99791667 0.99583333\n",
      " 0.99375    0.99791232 0.99582463 0.99583333 0.99791667 1.\n",
      " 0.99582463 0.99582463]\n",
      "Average: 0.9959960855949896\n"
     ]
    }
   ],
   "source": [
    "mlp_res = cross_val_score(mlp, X, y, cv=cv, n_jobs=-1)\n",
    "print(mlp_res)\n",
    "print(\"Average:\", np.average(mlp_res))"
   ]
  },
  {
   "cell_type": "code",
   "execution_count": null,
   "metadata": {
    "colab": {
     "base_uri": "https://localhost:8080/"
    },
    "id": "pHXTvoSZkn82",
    "outputId": "ec10a149-72ab-494c-db9f-037de79df79a"
   },
   "outputs": [
    {
     "name": "stdout",
     "output_type": "stream",
     "text": [
      "['ps' 'neutral' 'neutral' ... 'angry' 'disgust' 'fear']\n"
     ]
    }
   ],
   "source": [
    "mlp_pred = mlp.predict(X_test)\n",
    "print(mlp_pred)"
   ]
  },
  {
   "cell_type": "code",
   "execution_count": null,
   "metadata": {
    "colab": {
     "base_uri": "https://localhost:8080/",
     "height": 732
    },
    "id": "SvrWcQtZkr2i",
    "outputId": "1bd7ecc0-f2f0-42d2-b58f-c3d361d43585"
   },
   "outputs": [
    {
     "name": "stdout",
     "output_type": "stream",
     "text": [
      "              precision    recall  f1-score   support\n",
      "\n",
      "       angry       1.00      1.00      1.00       210\n",
      "     disgust       0.99      1.00      1.00       197\n",
      "        fear       0.98      1.00      0.99       195\n",
      "       happy       0.98      0.99      0.99       185\n",
      "     neutral       1.00      1.00      1.00       195\n",
      "          ps       1.00      0.97      0.98       115\n",
      "         sad       1.00      1.00      1.00       102\n",
      "\n",
      "    accuracy                           0.99      1199\n",
      "   macro avg       0.99      0.99      0.99      1199\n",
      "weighted avg       0.99      0.99      0.99      1199\n",
      "\n",
      "----accuracy score 99.4161801501251 ----\n"
     ]
    },
    {
     "data": {
      "image/png": "[encoded data removed]",
      "text/plain": [
       "<Figure size 640x480 with 2 Axes>"
      ]
     },
     "metadata": {},
     "output_type": "display_data"
    }
   ],
   "source": [
    "print(classification_report(y_test,mlp_pred))\n",
    "\n",
    "acc_mlp = float(accuracy_score(y_test,mlp_pred))*100\n",
    "print(\"----accuracy score %s ----\" % acc_mlp)\n",
    "\n",
    "cm_mlp = confusion_matrix(y_test,mlp_pred)\n",
    "\n",
    "ax= plt.subplot()\n",
    "sns.heatmap(cm_mlp, annot=True, fmt='g', ax=ax);\n",
    "\n",
    "# labels, title and ticks\n",
    "ax.set_xlabel('Predicted labels');\n",
    "ax.set_ylabel('True labels'); \n",
    "ax.set_title('Confusion Matrix (Multi Layer Perceptron)'); \n",
    "ax.xaxis.set_ticklabels(tess_emotions);\n",
    "ax.yaxis.set_ticklabels(tess_emotions);"
   ]
  },
  {
   "cell_type": "code",
   "execution_count": null,
   "metadata": {
    "colab": {
     "base_uri": "https://localhost:8080/"
    },
    "id": "t1xZHWlvkxKD",
    "outputId": "05f01f34-000c-4356-a11b-278f3a152838"
   },
   "outputs": [
    {
     "data": {
      "text/plain": [
       "['mlp_model.joblib']"
      ]
     },
     "execution_count": 45,
     "metadata": {},
     "output_type": "execute_result"
    }
   ],
   "source": [
    "# Save the trained model\n",
    "joblib.dump(mlp, 'mlp_model.joblib')"
   ]
  },
  {
   "cell_type": "code",
   "execution_count": null,
   "metadata": {
    "colab": {
     "base_uri": "https://localhost:8080/"
    },
    "id": "zVAc4wzrl4Ub",
    "outputId": "21c1e55b-bfdd-4924-d211-1e23a36ee278"
   },
   "outputs": [
    {
     "data": {
      "text/plain": [
       "['svm_model0-01.pkl']"
      ]
     },
     "execution_count": 47,
     "metadata": {},
     "output_type": "execute_result"
    }
   ],
   "source": [
    "# Save the trained model\n",
    "joblib.dump(svml_res, 'svm_model0-01.pkl')"
   ]
  },
  {
   "cell_type": "code",
   "execution_count": null,
   "metadata": {
    "id": "-JC5o69omKTK"
   },
   "outputs": [],
   "source": [
    "import pickle\n",
    "\n",
    "# Save the model using protocol version 2\n",
    "with open('mllpp.pkl', 'wb') as f:\n",
    "    pickle.dump(mlp, f, protocol=2)"
   ]
  },
  {
   "cell_type": "code",
   "execution_count": null,
   "metadata": {
    "id": "LtPa_e6XpMTO"
   },
   "outputs": [],
   "source": [
    "import pickle\n",
    "\n",
    "# Save the model using protocol version 2\n",
    "with open('svmm.pkl', 'wb') as f:\n",
    "    pickle.dump(svml_res, f, protocol=2)"
   ]
  }
 ],
 "metadata": {
  "colab": {
   "provenance": []
  },
  "kernelspec": {
   "display_name": "Python 3 (ipykernel)",
   "language": "python",
   "name": "python3"
  },
  "language_info": {
   "codemirror_mode": {
    "name": "ipython",
    "version": 3
   },
   "file_extension": ".py",
   "mimetype": "text/x-python",
   "name": "python",
   "nbconvert_exporter": "python",
   "pygments_lexer": "ipython3",
   "version": "3.9.2"
  }
 },
 "nbformat": 4,
 "nbformat_minor": 1
}
