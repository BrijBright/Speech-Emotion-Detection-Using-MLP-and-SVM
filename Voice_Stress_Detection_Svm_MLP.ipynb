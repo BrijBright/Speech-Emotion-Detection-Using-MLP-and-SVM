{
 "cells": [
  {
   "cell_type": "markdown",
   "metadata": {
    "id": "Y0Ga6I_kAuC7"
   },
   "source": [
    "# With New Dataset"
   ]
  },
  {
   "cell_type": "code",
   "execution_count": 1,
   "metadata": {
    "id": "U6OfrPYEA9g6"
   },
   "outputs": [],
   "source": [
    "import glob\n",
    "import os\n",
    "import librosa\n",
    "import time\n",
    "import seaborn as sns\n",
    "import numpy as np\n",
    "import pandas as pd\n",
    "from tqdm import tqdm"
   ]
  },
  {
   "cell_type": "code",
   "execution_count": 2,
   "metadata": {
    "id": "LiZ4sYcWA_TS"
   },
   "outputs": [],
   "source": [
    "tess_emotions=['angry','disgust','fear','happy', 'neutral', 'ps', 'sad']"
   ]
  },
  {
   "cell_type": "code",
   "execution_count": 3,
   "metadata": {
    "id": "IHL-Y5GjBD28"
   },
   "outputs": [],
   "source": [
    "def extract_feature(file_name):\n",
    "    \n",
    "    X, sample_rate = librosa.load(os.path.join(file_name), res_type='kaiser_fast')\n",
    "    result = np.array([])\n",
    "    \n",
    "    stft = np.abs(librosa.stft(X))\n",
    "    chromas = np.mean(librosa.feature.chroma_stft(S=stft, sr=sample_rate).T, axis=0)\n",
    "    result = np.hstack((result, chromas))\n",
    "\n",
    "    mfccs=np.mean(librosa.feature.mfcc(y=X, sr=sample_rate, n_mfcc=40).T, axis=0)\n",
    "    result=np.hstack((result, mfccs))\n",
    "\n",
    "    mels = np.mean(librosa.feature.melspectrogram(y=X, sr=sample_rate, n_mels=128).T, axis=0)\n",
    "    result = np.hstack((result, mels))\n",
    "        \n",
    "    return result"
   ]
  },
  {
   "cell_type": "code",
   "execution_count": 4,
   "metadata": {
    "id": "7JOT_4QUBozw"
   },
   "outputs": [],
   "source": [
    "def load_data(): \n",
    "    sound, emo =[],[]\n",
    "\n",
    "    for file in glob.glob(\"TESS Toronto emotional speech set data/*AF_*/*.wav\"):\n",
    "      #tess toronto emotional speech set data/TESS Toronto emotional speech set data\n",
    "        file_name=os.path.basename(file)\n",
    "        emotion=file_name.split(\"_\")[2][:-4] #split and remove .wav\n",
    "        sound.append(file)\n",
    "        emo.append(emotion)\n",
    "\n",
    "    return {\"file\": sound, \"emotion\": emo}"
   ]
  },
  {
   "cell_type": "code",
   "execution_count": 5,
   "metadata": {
    "colab": {
     "base_uri": "https://localhost:8080/"
    },
    "id": "bFXvPLd6CDY4",
    "outputId": "e3ff0946-a7cf-416c-cafd-2d006a562ddb"
   },
   "outputs": [
    {
     "name": "stdout",
     "output_type": "stream",
     "text": [
      "--- Data loaded. Loading time: 0.07722163200378418 seconds ---\n"
     ]
    }
   ],
   "source": [
    "start_time = time.time()\n",
    "\n",
    "Trial_dict = load_data()\n",
    "# print(Trial_dict )\n",
    "print(\"--- Data loaded. Loading time: %s seconds ---\" % (time.time() - start_time))"
   ]
  },
  {
   "cell_type": "code",
   "execution_count": 6,
   "metadata": {
    "id": "I7VGftKZCHkb"
   },
   "outputs": [],
   "source": [
    "X = pd.DataFrame(Trial_dict[\"file\"])\n",
    "y = pd.DataFrame(Trial_dict[\"emotion\"])"
   ]
  },
  {
   "cell_type": "code",
   "execution_count": 7,
   "metadata": {},
   "outputs": [
    {
     "data": {
      "text/plain": [
       "2800"
      ]
     },
     "execution_count": 7,
     "metadata": {},
     "output_type": "execute_result"
    }
   ],
   "source": [
    "len(X)"
   ]
  },
  {
   "cell_type": "code",
   "execution_count": 8,
   "metadata": {
    "colab": {
     "base_uri": "https://localhost:8080/"
    },
    "id": "dqTkp_WGCLFr",
    "outputId": "7278e3bd-b248-4e48-a0a2-3a07223d11e4"
   },
   "outputs": [
    {
     "data": {
      "text/plain": [
       "((2800, 1), (2800, 1))"
      ]
     },
     "execution_count": 8,
     "metadata": {},
     "output_type": "execute_result"
    }
   ],
   "source": [
    "X.shape, y.shape"
   ]
  },
  {
   "cell_type": "code",
   "execution_count": 9,
   "metadata": {
    "colab": {
     "base_uri": "https://localhost:8080/"
    },
    "id": "70AXB67pCNqf",
    "outputId": "b35c2745-cf4f-4ae2-ac84-5f9db5af4129"
   },
   "outputs": [
    {
     "data": {
      "text/plain": [
       "angry      400\n",
       "disgust    400\n",
       "fear       400\n",
       "happy      400\n",
       "neutral    400\n",
       "ps         400\n",
       "sad        400\n",
       "Name: count, dtype: int64"
      ]
     },
     "execution_count": 9,
     "metadata": {},
     "output_type": "execute_result"
    }
   ],
   "source": [
    "y.value_counts()"
   ]
  },
  {
   "cell_type": "code",
   "execution_count": 10,
   "metadata": {
    "colab": {
     "base_uri": "https://localhost:8080/"
    },
    "id": "obXqAHF7CVcL",
    "outputId": "a814b62e-85ab-4e6b-8078-c800514594be"
   },
   "outputs": [
    {
     "name": "stderr",
     "output_type": "stream",
     "text": [
      "100%|█| 2800/2800 [04:35<00:00, 10.18it/s]\n"
     ]
    }
   ],
   "source": [
    "X_features =[]\n",
    "\n",
    "for x in tqdm(X[0]):\n",
    "#     print(x)\n",
    "    X_features.append(extract_feature(x))\n",
    " "
   ]
  },
  {
   "cell_type": "code",
   "execution_count": 11,
   "metadata": {
    "id": "GjJFJm-KFPN0"
   },
   "outputs": [],
   "source": [
    "X_features = pd.DataFrame(X_features)"
   ]
  },
  {
   "cell_type": "code",
   "execution_count": 12,
   "metadata": {
    "id": "4ClS_qe-FPGE"
   },
   "outputs": [],
   "source": [
    "y=y.rename(columns= {0: 'emotion'})"
   ]
  },
  {
   "cell_type": "code",
   "execution_count": 13,
   "metadata": {
    "id": "SWHtMxYIFWLc"
   },
   "outputs": [],
   "source": [
    "#concatinating the attributes and label into a single dataframe\n",
    "data = pd.concat([X_features, y], axis =1)"
   ]
  },
  {
   "cell_type": "code",
   "execution_count": 14,
   "metadata": {
    "colab": {
     "base_uri": "https://localhost:8080/",
     "height": 386
    },
    "id": "jmo2kz7lFZot",
    "outputId": "2575572e-90b2-436b-d981-22339d011279"
   },
   "outputs": [
    {
     "data": {
      "text/html": [
       "<div>\n",
       "<style scoped>\n",
       "    .dataframe tbody tr th:only-of-type {\n",
       "        vertical-align: middle;\n",
       "    }\n",
       "\n",
       "    .dataframe tbody tr th {\n",
       "        vertical-align: top;\n",
       "    }\n",
       "\n",
       "    .dataframe thead th {\n",
       "        text-align: right;\n",
       "    }\n",
       "</style>\n",
       "<table border=\"1\" class=\"dataframe\">\n",
       "  <thead>\n",
       "    <tr style=\"text-align: right;\">\n",
       "      <th></th>\n",
       "      <th>0</th>\n",
       "      <th>1</th>\n",
       "      <th>2</th>\n",
       "      <th>3</th>\n",
       "      <th>4</th>\n",
       "      <th>5</th>\n",
       "      <th>6</th>\n",
       "      <th>7</th>\n",
       "      <th>8</th>\n",
       "      <th>9</th>\n",
       "      <th>...</th>\n",
       "      <th>171</th>\n",
       "      <th>172</th>\n",
       "      <th>173</th>\n",
       "      <th>174</th>\n",
       "      <th>175</th>\n",
       "      <th>176</th>\n",
       "      <th>177</th>\n",
       "      <th>178</th>\n",
       "      <th>179</th>\n",
       "      <th>emotion</th>\n",
       "    </tr>\n",
       "  </thead>\n",
       "  <tbody>\n",
       "    <tr>\n",
       "      <th>0</th>\n",
       "      <td>0.617867</td>\n",
       "      <td>0.653780</td>\n",
       "      <td>0.431085</td>\n",
       "      <td>0.338207</td>\n",
       "      <td>0.375061</td>\n",
       "      <td>0.380691</td>\n",
       "      <td>0.351609</td>\n",
       "      <td>0.489447</td>\n",
       "      <td>0.511786</td>\n",
       "      <td>0.382193</td>\n",
       "      <td>...</td>\n",
       "      <td>0.000360</td>\n",
       "      <td>0.000290</td>\n",
       "      <td>0.000177</td>\n",
       "      <td>0.000110</td>\n",
       "      <td>0.000069</td>\n",
       "      <td>0.000015</td>\n",
       "      <td>0.000003</td>\n",
       "      <td>2.192895e-07</td>\n",
       "      <td>8.590388e-09</td>\n",
       "      <td>angry</td>\n",
       "    </tr>\n",
       "    <tr>\n",
       "      <th>1</th>\n",
       "      <td>0.673547</td>\n",
       "      <td>0.594730</td>\n",
       "      <td>0.374855</td>\n",
       "      <td>0.345801</td>\n",
       "      <td>0.409756</td>\n",
       "      <td>0.443748</td>\n",
       "      <td>0.344707</td>\n",
       "      <td>0.382297</td>\n",
       "      <td>0.377692</td>\n",
       "      <td>0.335287</td>\n",
       "      <td>...</td>\n",
       "      <td>0.000179</td>\n",
       "      <td>0.000126</td>\n",
       "      <td>0.000077</td>\n",
       "      <td>0.000030</td>\n",
       "      <td>0.000014</td>\n",
       "      <td>0.000007</td>\n",
       "      <td>0.000001</td>\n",
       "      <td>1.132696e-07</td>\n",
       "      <td>1.836075e-09</td>\n",
       "      <td>angry</td>\n",
       "    </tr>\n",
       "    <tr>\n",
       "      <th>2</th>\n",
       "      <td>0.564367</td>\n",
       "      <td>0.657618</td>\n",
       "      <td>0.460215</td>\n",
       "      <td>0.355069</td>\n",
       "      <td>0.367584</td>\n",
       "      <td>0.387540</td>\n",
       "      <td>0.296714</td>\n",
       "      <td>0.316493</td>\n",
       "      <td>0.391474</td>\n",
       "      <td>0.395263</td>\n",
       "      <td>...</td>\n",
       "      <td>0.000871</td>\n",
       "      <td>0.000464</td>\n",
       "      <td>0.000454</td>\n",
       "      <td>0.000138</td>\n",
       "      <td>0.000043</td>\n",
       "      <td>0.000013</td>\n",
       "      <td>0.000003</td>\n",
       "      <td>1.801937e-07</td>\n",
       "      <td>6.742717e-09</td>\n",
       "      <td>angry</td>\n",
       "    </tr>\n",
       "    <tr>\n",
       "      <th>3</th>\n",
       "      <td>0.654799</td>\n",
       "      <td>0.542651</td>\n",
       "      <td>0.390100</td>\n",
       "      <td>0.326782</td>\n",
       "      <td>0.371182</td>\n",
       "      <td>0.391699</td>\n",
       "      <td>0.413297</td>\n",
       "      <td>0.480299</td>\n",
       "      <td>0.483567</td>\n",
       "      <td>0.423777</td>\n",
       "      <td>...</td>\n",
       "      <td>0.000241</td>\n",
       "      <td>0.000225</td>\n",
       "      <td>0.000205</td>\n",
       "      <td>0.000179</td>\n",
       "      <td>0.000087</td>\n",
       "      <td>0.000022</td>\n",
       "      <td>0.000004</td>\n",
       "      <td>3.114627e-07</td>\n",
       "      <td>8.757597e-09</td>\n",
       "      <td>angry</td>\n",
       "    </tr>\n",
       "    <tr>\n",
       "      <th>4</th>\n",
       "      <td>0.566742</td>\n",
       "      <td>0.629937</td>\n",
       "      <td>0.509856</td>\n",
       "      <td>0.386924</td>\n",
       "      <td>0.365660</td>\n",
       "      <td>0.338888</td>\n",
       "      <td>0.265869</td>\n",
       "      <td>0.292169</td>\n",
       "      <td>0.352686</td>\n",
       "      <td>0.352873</td>\n",
       "      <td>...</td>\n",
       "      <td>0.000504</td>\n",
       "      <td>0.000281</td>\n",
       "      <td>0.000298</td>\n",
       "      <td>0.000132</td>\n",
       "      <td>0.000038</td>\n",
       "      <td>0.000009</td>\n",
       "      <td>0.000002</td>\n",
       "      <td>8.761903e-08</td>\n",
       "      <td>3.468929e-09</td>\n",
       "      <td>angry</td>\n",
       "    </tr>\n",
       "  </tbody>\n",
       "</table>\n",
       "<p>5 rows × 181 columns</p>\n",
       "</div>"
      ],
      "text/plain": [
       "          0         1         2         3         4         5         6  \\\n",
       "0  0.617867  0.653780  0.431085  0.338207  0.375061  0.380691  0.351609   \n",
       "1  0.673547  0.594730  0.374855  0.345801  0.409756  0.443748  0.344707   \n",
       "2  0.564367  0.657618  0.460215  0.355069  0.367584  0.387540  0.296714   \n",
       "3  0.654799  0.542651  0.390100  0.326782  0.371182  0.391699  0.413297   \n",
       "4  0.566742  0.629937  0.509856  0.386924  0.365660  0.338888  0.265869   \n",
       "\n",
       "          7         8         9  ...       171       172       173       174  \\\n",
       "0  0.489447  0.511786  0.382193  ...  0.000360  0.000290  0.000177  0.000110   \n",
       "1  0.382297  0.377692  0.335287  ...  0.000179  0.000126  0.000077  0.000030   \n",
       "2  0.316493  0.391474  0.395263  ...  0.000871  0.000464  0.000454  0.000138   \n",
       "3  0.480299  0.483567  0.423777  ...  0.000241  0.000225  0.000205  0.000179   \n",
       "4  0.292169  0.352686  0.352873  ...  0.000504  0.000281  0.000298  0.000132   \n",
       "\n",
       "        175       176       177           178           179  emotion  \n",
       "0  0.000069  0.000015  0.000003  2.192895e-07  8.590388e-09    angry  \n",
       "1  0.000014  0.000007  0.000001  1.132696e-07  1.836075e-09    angry  \n",
       "2  0.000043  0.000013  0.000003  1.801937e-07  6.742717e-09    angry  \n",
       "3  0.000087  0.000022  0.000004  3.114627e-07  8.757597e-09    angry  \n",
       "4  0.000038  0.000009  0.000002  8.761903e-08  3.468929e-09    angry  \n",
       "\n",
       "[5 rows x 181 columns]"
      ]
     },
     "execution_count": 14,
     "metadata": {},
     "output_type": "execute_result"
    }
   ],
   "source": [
    "data.head()"
   ]
  },
  {
   "cell_type": "code",
   "execution_count": 15,
   "metadata": {
    "id": "bYpPUUfOFenh"
   },
   "outputs": [],
   "source": [
    "data = data.reindex(np.random.permutation(data.index))"
   ]
  },
  {
   "cell_type": "code",
   "execution_count": 16,
   "metadata": {
    "id": "Gp_myp99FxDg"
   },
   "outputs": [],
   "source": [
    "# Storing shuffled ravdess and tess data to avoid loading again\n",
    "data.to_csv(\"TESS_FEATURES.csv\")"
   ]
  },
  {
   "cell_type": "code",
   "execution_count": 17,
   "metadata": {
    "colab": {
     "base_uri": "https://localhost:8080/"
    },
    "id": "oNsKcqFWF0T8",
    "outputId": "d6e5d797-dcb5-4fbb-83d4-f2602179a967"
   },
   "outputs": [
    {
     "name": "stdout",
     "output_type": "stream",
     "text": [
      "data loaded in 0.373873233795166ms\n",
      "   Unnamed: 0         0         1         2         3         4         5  \\\n",
      "0        1852  0.555635  0.627150  0.580239  0.497519  0.474430  0.408345   \n",
      "1        1380  0.355780  0.339762  0.321227  0.298005  0.299745  0.342849   \n",
      "2         824  0.234834  0.340382  0.383545  0.214498  0.254162  0.364296   \n",
      "3         694  0.533369  0.478962  0.427260  0.411472  0.444489  0.581935   \n",
      "4         132  0.629125  0.369055  0.305814  0.315839  0.336110  0.319943   \n",
      "\n",
      "          6         7         8  ...       171       172       173       174  \\\n",
      "0  0.448672  0.447244  0.416217  ...  0.067778  0.082636  0.066202  0.025139   \n",
      "1  0.462188  0.451501  0.393863  ...  0.000038  0.000027  0.000019  0.000009   \n",
      "2  0.762404  0.754437  0.342012  ...  0.000257  0.000150  0.000067  0.000024   \n",
      "3  0.546419  0.431803  0.441229  ...  0.000184  0.000178  0.000148  0.000096   \n",
      "4  0.407228  0.478064  0.416067  ...  0.000410  0.000423  0.000276  0.000161   \n",
      "\n",
      "        175       176           177           178           179  emotion  \n",
      "0  0.005931  0.003922  8.855814e-04  1.025326e-04  5.574802e-06     fear  \n",
      "1  0.000003  0.000002  3.068286e-07  4.029751e-08  1.560686e-09      sad  \n",
      "2  0.000009  0.000002  2.713393e-07  2.443825e-08  1.080096e-09  neutral  \n",
      "3  0.000039  0.000013  2.272178e-06  1.730816e-07  7.138959e-09    happy  \n",
      "4  0.000086  0.000019  2.247498e-06  2.850531e-07  1.657575e-08    angry  \n",
      "\n",
      "[5 rows x 182 columns]\n"
     ]
    }
   ],
   "source": [
    "starting_time = time.time()\n",
    "data = pd.read_csv(\"TESS_FEATURES.csv\")\n",
    "print(\"data loaded in \" + str(time.time()-starting_time) + \"ms\")\n",
    "\n",
    "print(data.head())"
   ]
  },
  {
   "cell_type": "code",
   "execution_count": 18,
   "metadata": {
    "colab": {
     "base_uri": "https://localhost:8080/"
    },
    "id": "IR5olAQRF_LK",
    "outputId": "a110af40-5490-4bc6-c881-22af63ca8260"
   },
   "outputs": [
    {
     "data": {
      "text/plain": [
       "(2800, 182)"
      ]
     },
     "execution_count": 18,
     "metadata": {},
     "output_type": "execute_result"
    }
   ],
   "source": [
    "data.shape"
   ]
  },
  {
   "cell_type": "code",
   "execution_count": 19,
   "metadata": {
    "colab": {
     "base_uri": "https://localhost:8080/"
    },
    "id": "R7x_veP0GD8b",
    "outputId": "d07e4648-94cd-4db2-df76-44e8fd19a763"
   },
   "outputs": [
    {
     "data": {
      "text/plain": [
       "Index(['Unnamed: 0', '0', '1', '2', '3', '4', '5', '6', '7', '8',\n",
       "       ...\n",
       "       '171', '172', '173', '174', '175', '176', '177', '178', '179',\n",
       "       'emotion'],\n",
       "      dtype='object', length=182)"
      ]
     },
     "execution_count": 19,
     "metadata": {},
     "output_type": "execute_result"
    }
   ],
   "source": [
    "#printing all columns\n",
    "data.columns"
   ]
  },
  {
   "cell_type": "code",
   "execution_count": 20,
   "metadata": {
    "id": "xATevwwdGG9s"
   },
   "outputs": [],
   "source": [
    "#dropping the column Unnamed: 0 to removed shuffled index\n",
    "data = data.drop('Unnamed: 0',axis=1)"
   ]
  },
  {
   "cell_type": "code",
   "execution_count": 21,
   "metadata": {
    "colab": {
     "base_uri": "https://localhost:8080/"
    },
    "id": "nDIfA3p6GKPi",
    "outputId": "754e6c49-7822-45fa-f712-58289ffba8ba"
   },
   "outputs": [
    {
     "data": {
      "text/plain": [
       "Index(['0', '1', '2', '3', '4', '5', '6', '7', '8', '9',\n",
       "       ...\n",
       "       '171', '172', '173', '174', '175', '176', '177', '178', '179',\n",
       "       'emotion'],\n",
       "      dtype='object', length=181)"
      ]
     },
     "execution_count": 21,
     "metadata": {},
     "output_type": "execute_result"
    }
   ],
   "source": [
    "data.columns"
   ]
  },
  {
   "cell_type": "code",
   "execution_count": 22,
   "metadata": {
    "id": "iMK4AysrGNJL"
   },
   "outputs": [],
   "source": [
    "#separating features and target outputs\n",
    "X = data.drop('emotion', axis = 1).values\n",
    "y = data['emotion'].values"
   ]
  },
  {
   "cell_type": "code",
   "execution_count": 23,
   "metadata": {
    "id": "3kbHXFvxGXSC"
   },
   "outputs": [],
   "source": [
    "import pandas as pd\n",
    "import numpy as np\n",
    "import matplotlib.pyplot as plt\n",
    "%matplotlib inline"
   ]
  },
  {
   "cell_type": "code",
   "execution_count": 24,
   "metadata": {
    "colab": {
     "base_uri": "https://localhost:8080/"
    },
    "id": "NXTa8RxlGf0i",
    "outputId": "7e5342e6-a1c7-48bd-b93b-844a1721c2da"
   },
   "outputs": [
    {
     "data": {
      "text/plain": [
       "((2800, 180), (2800,))"
      ]
     },
     "execution_count": 24,
     "metadata": {},
     "output_type": "execute_result"
    }
   ],
   "source": [
    "X.shape, y.shape"
   ]
  },
  {
   "cell_type": "code",
   "execution_count": 25,
   "metadata": {
    "colab": {
     "base_uri": "https://localhost:8080/"
    },
    "id": "f4kByBqdGjhw",
    "outputId": "5795d981-615e-4c09-c439-c92ead99e682"
   },
   "outputs": [
    {
     "data": {
      "text/plain": [
       "array(['angry', 'disgust', 'fear', 'happy', 'neutral', 'ps', 'sad'],\n",
       "      dtype=object)"
      ]
     },
     "execution_count": 25,
     "metadata": {},
     "output_type": "execute_result"
    }
   ],
   "source": [
    "np.unique(y)"
   ]
  },
  {
   "cell_type": "code",
   "execution_count": 26,
   "metadata": {
    "id": "A_ZLxzpUGmtY"
   },
   "outputs": [],
   "source": [
    "from sklearn.model_selection import train_test_split\n",
    "from sklearn.metrics import classification_report, confusion_matrix,accuracy_score\n",
    "from sklearn.preprocessing import StandardScaler\n",
    "from sklearn.pipeline import Pipeline"
   ]
  },
  {
   "cell_type": "code",
   "execution_count": 27,
   "metadata": {
    "id": "XECJzIX9Gmho"
   },
   "outputs": [],
   "source": [
    "from sklearn.model_selection import RepeatedStratifiedKFold\n",
    "from sklearn.model_selection import cross_val_score, cross_validate, cross_val_predict\n",
    "\n",
    "X_train, X_test, y_train, y_test = train_test_split(X, y, test_size = 0.50, random_state=0)\n",
    "\n",
    "cv = RepeatedStratifiedKFold(n_splits=5, n_repeats=10)"
   ]
  },
  {
   "cell_type": "code",
   "execution_count": 28,
   "metadata": {
    "colab": {
     "base_uri": "https://localhost:8080/"
    },
    "id": "yXG6A4YMGu1Z",
    "outputId": "e267fb77-1ec8-419f-a4d4-9d4a50600829"
   },
   "outputs": [
    {
     "name": "stdout",
     "output_type": "stream",
     "text": [
      "Accuracy with Scaling: 0.9785714285714285\n"
     ]
    },
    {
     "name": "stderr",
     "output_type": "stream",
     "text": [
      "C:\\Users\\DELL\\AppData\\Roaming\\Python\\Python39\\site-packages\\sklearn\\svm\\_base.py:1244: ConvergenceWarning: Liblinear failed to converge, increase the number of iterations.\n",
      "  warnings.warn(\n"
     ]
    }
   ],
   "source": [
    "from sklearn.svm import LinearSVC\n",
    "\n",
    "steps2 = [('scaler', StandardScaler()),\n",
    "          ('LinearSVM', LinearSVC())]\n",
    "\n",
    "svml = Pipeline(steps2)\n",
    "\n",
    "svml_res = svml.fit(X_train, y_train)\n",
    "\n",
    "print('Accuracy with Scaling: {}'.format(svml.score(X_test, y_test)))"
   ]
  },
  {
   "cell_type": "code",
   "execution_count": 29,
   "metadata": {
    "colab": {
     "base_uri": "https://localhost:8080/"
    },
    "id": "w77XlnNoHjRK",
    "outputId": "c5fe055c-32fd-43b9-ac45-041ac2eb922d"
   },
   "outputs": [
    {
     "data": {
      "text/plain": [
       "array(['happy', 'angry', 'ps', ..., 'happy', 'ps', 'disgust'],\n",
       "      dtype=object)"
      ]
     },
     "execution_count": 29,
     "metadata": {},
     "output_type": "execute_result"
    }
   ],
   "source": [
    " import joblib\n",
    "\n",
    "# Save the trained model to a file\n",
    "joblib.dump(svml_res, 'svm_model.joblib')\n",
    "\n",
    "# Load the saved model from the file\n",
    "svm_loaded = joblib.load('svm_model.joblib')\n",
    "\n",
    "# Use the loaded model for prediction\n",
    "svm_loaded.predict(X_test)"
   ]
  },
  {
   "cell_type": "code",
   "execution_count": 30,
   "metadata": {
    "colab": {
     "base_uri": "https://localhost:8080/"
    },
    "id": "hRVICbixG2ji",
    "outputId": "683942ea-507b-468f-c0dd-9417b6cc5144"
   },
   "outputs": [
    {
     "name": "stdout",
     "output_type": "stream",
     "text": [
      "----train accuracy score 100.0 ----\n",
      "----test accuracy score 97.85714285714285 ----\n"
     ]
    }
   ],
   "source": [
    "svml_train_acc = float(svml_res.score(X_train, y_train)*100)\n",
    "print(\"----train accuracy score %s ----\" % svml_train_acc)\n",
    "\n",
    "svml_test_acc = float(svml_res.score(X_test, y_test)*100)\n",
    "print(\"----test accuracy score %s ----\" % svml_test_acc)"
   ]
  },
  {
   "cell_type": "code",
   "execution_count": 31,
   "metadata": {
    "colab": {
     "base_uri": "https://localhost:8080/"
    },
    "id": "wozRp9KoG64a",
    "outputId": "c93e0749-d672-4424-9e66-00d5f648040e"
   },
   "outputs": [
    {
     "name": "stdout",
     "output_type": "stream",
     "text": [
      "[0.98571429 0.99285714 0.99821429 0.99285714 0.99107143 0.98392857\n",
      " 0.98571429 0.99285714 0.98214286 0.99642857 0.9875     0.98392857\n",
      " 0.9875     0.99464286 0.98928571 0.99107143 0.98214286 0.9875\n",
      " 0.99285714 0.99107143 0.98214286 0.99107143 0.98928571 0.99285714\n",
      " 0.99464286 0.98392857 0.98928571 0.9875     0.99285714 0.99464286\n",
      " 0.9875     0.98928571 0.98928571 0.99285714 0.98571429 0.98571429\n",
      " 0.9875     0.99464286 0.99107143 0.98214286 0.99464286 0.99107143\n",
      " 0.99821429 0.98571429 0.99107143 0.98928571 0.99464286 0.98928571\n",
      " 0.99464286 0.98571429]\n",
      "Average: 0.9897500000000001\n"
     ]
    }
   ],
   "source": [
    "svml_score = cross_val_score(svml, X, y, cv=cv, n_jobs=-1)\n",
    "print(svml_score)\n",
    "print(\"Average:\", np.average(svml_score))"
   ]
  },
  {
   "cell_type": "code",
   "execution_count": 32,
   "metadata": {
    "colab": {
     "base_uri": "https://localhost:8080/"
    },
    "id": "uAAgt9AvHGYG",
    "outputId": "67cec8c2-0875-4cb5-c629-19bb75b9a2d0"
   },
   "outputs": [
    {
     "name": "stdout",
     "output_type": "stream",
     "text": [
      "['happy' 'angry' 'ps' ... 'happy' 'ps' 'disgust']\n"
     ]
    }
   ],
   "source": [
    "svml_pred = svml_res.predict(X_test)\n",
    "print(svml_pred)"
   ]
  },
  {
   "cell_type": "code",
   "execution_count": 33,
   "metadata": {
    "colab": {
     "base_uri": "https://localhost:8080/",
     "height": 732
    },
    "id": "bVeTo2DrHK04",
    "outputId": "4cca254a-fb79-4c1c-a49d-5b7e78c672a8"
   },
   "outputs": [
    {
     "name": "stdout",
     "output_type": "stream",
     "text": [
      "              precision    recall  f1-score   support\n",
      "\n",
      "       angry       1.00      0.99      0.99       205\n",
      "     disgust       0.97      1.00      0.98       207\n",
      "        fear       1.00      0.94      0.97       226\n",
      "       happy       0.97      0.96      0.97       189\n",
      "     neutral       0.99      1.00      1.00       192\n",
      "          ps       0.93      0.97      0.95       196\n",
      "         sad       1.00      1.00      1.00       185\n",
      "\n",
      "    accuracy                           0.98      1400\n",
      "   macro avg       0.98      0.98      0.98      1400\n",
      "weighted avg       0.98      0.98      0.98      1400\n",
      "\n",
      "----accuracy score 97.85714285714285 ----\n"
     ]
    },
    {
     "data": {
      "image/png": "[encoded data removed]",
      "text/plain": [
       "<Figure size 640x480 with 2 Axes>"
      ]
     },
     "metadata": {},
     "output_type": "display_data"
    }
   ],
   "source": [
    "print(classification_report(y_test,svml_pred))\n",
    "\n",
    "acc_svml = float(accuracy_score(y_test,svml_pred))*100\n",
    "print(\"----accuracy score %s ----\" % acc_svml)\n",
    "\n",
    "cm_svml = confusion_matrix(y_test,svml_pred)\n",
    "\n",
    "# df_cm_svml = pd.DataFrame(cm_svml)\n",
    "# sn.heatmap(df_cm_svml, annot=True, fmt='')\n",
    "# plt.show()\n",
    "\n",
    "ax= plt.subplot()\n",
    "sns.heatmap(cm_svml, annot=True, fmt='g', ax=ax);\n",
    "\n",
    "# labels, title and ticks\n",
    "ax.set_xlabel('Predicted labels');\n",
    "ax.set_ylabel('True labels'); \n",
    "ax.set_title('Confusion Matrix (SVM )'); \n",
    "ax.xaxis.set_ticklabels(tess_emotions);\n",
    "ax.yaxis.set_ticklabels(tess_emotions);"
   ]
  },
  {
   "cell_type": "markdown",
   "metadata": {
    "id": "_hfrF57iILg5"
   },
   "source": [
    "# **MLP Classifier**"
   ]
  },
  {
   "cell_type": "code",
   "execution_count": 34,
   "metadata": {
    "colab": {
     "base_uri": "https://localhost:8080/"
    },
    "id": "-SP2LspmkDWf",
    "outputId": "2b114c65-b49f-436a-f344-0dd25371a7a2"
   },
   "outputs": [
    {
     "name": "stdout",
     "output_type": "stream",
     "text": [
      "Accuracy with Scaling: 0.995\n"
     ]
    }
   ],
   "source": [
    "from sklearn.neural_network import MLPClassifier\n",
    "\n",
    "steps3 = [('scaler', StandardScaler()),\n",
    "        ('MLP', MLPClassifier())]\n",
    "        \n",
    "pipeline_mlp = Pipeline(steps3)\n",
    "\n",
    "mlp = pipeline_mlp.fit(X_train, y_train)\n",
    "\n",
    "print('Accuracy with Scaling: {}'.format(mlp.score(X_test, y_test)))"
   ]
  },
  {
   "cell_type": "code",
   "execution_count": 35,
   "metadata": {
    "colab": {
     "base_uri": "https://localhost:8080/"
    },
    "id": "h1HpB_AGkHbv",
    "outputId": "7de723db-4ef0-4a1e-f7b0-6f215aa03df7"
   },
   "outputs": [
    {
     "name": "stdout",
     "output_type": "stream",
     "text": [
      "----train accuracy score 100.0 ----\n",
      "----test accuracy score 100.0 ----\n"
     ]
    }
   ],
   "source": [
    "mlp_train_acc = float(mlp.score(X_train, y_train)*100)\n",
    "print(\"----train accuracy score %s ----\" % mlp_train_acc)\n",
    "\n",
    "mlp_test_acc = float(mlp.score(X_test, y_test)*100)\n",
    "print(\"----test accuracy score %s ----\" % mlp_train_acc)"
   ]
  },
  {
   "cell_type": "code",
   "execution_count": null,
   "metadata": {
    "colab": {
     "base_uri": "https://localhost:8080/"
    },
    "id": "yx-huRJ-kNaz",
    "outputId": "d8668b5d-7bc4-4f2f-e3eb-2f3b808e262c"
   },
   "outputs": [],
   "source": [
    "mlp_res = cross_val_score(mlp, X, y, cv=cv, n_jobs=-1)\n",
    "print(mlp_res)\n",
    "print(\"Average:\", np.average(mlp_res))"
   ]
  },
  {
   "cell_type": "code",
   "execution_count": null,
   "metadata": {
    "colab": {
     "base_uri": "https://localhost:8080/"
    },
    "id": "pHXTvoSZkn82",
    "outputId": "ec10a149-72ab-494c-db9f-037de79df79a"
   },
   "outputs": [],
   "source": [
    "mlp_pred = mlp.predict(X_test)\n",
    "print(mlp_pred)"
   ]
  },
  {
   "cell_type": "code",
   "execution_count": null,
   "metadata": {
    "colab": {
     "base_uri": "https://localhost:8080/",
     "height": 732
    },
    "id": "SvrWcQtZkr2i",
    "outputId": "1bd7ecc0-f2f0-42d2-b58f-c3d361d43585"
   },
   "outputs": [],
   "source": [
    "print(classification_report(y_test,mlp_pred))\n",
    "\n",
    "acc_mlp = float(accuracy_score(y_test,mlp_pred))*100\n",
    "print(\"----accuracy score %s ----\" % acc_mlp)\n",
    "\n",
    "cm_mlp = confusion_matrix(y_test,mlp_pred)\n",
    "\n",
    "ax= plt.subplot()\n",
    "sns.heatmap(cm_mlp, annot=True, fmt='g', ax=ax);\n",
    "\n",
    "# labels, title and ticks\n",
    "ax.set_xlabel('Predicted labels');\n",
    "ax.set_ylabel('True labels'); \n",
    "ax.set_title('Confusion Matrix (Multi Layer Perceptron)'); \n",
    "ax.xaxis.set_ticklabels(tess_emotions);\n",
    "ax.yaxis.set_ticklabels(tess_emotions);"
   ]
  },
  {
   "cell_type": "code",
   "execution_count": null,
   "metadata": {
    "colab": {
     "base_uri": "https://localhost:8080/"
    },
    "id": "t1xZHWlvkxKD",
    "outputId": "05f01f34-000c-4356-a11b-278f3a152838"
   },
   "outputs": [],
   "source": [
    "# Save the trained model\n",
    "joblib.dump(mlp, 'mlp_model.joblib')"
   ]
  },
  {
   "cell_type": "code",
   "execution_count": null,
   "metadata": {
    "colab": {
     "base_uri": "https://localhost:8080/"
    },
    "id": "zVAc4wzrl4Ub",
    "outputId": "21c1e55b-bfdd-4924-d211-1e23a36ee278"
   },
   "outputs": [],
   "source": [
    "# Save the trained model\n",
    "joblib.dump(svml_res, 'svm_model0-01.pkl')"
   ]
  },
  {
   "cell_type": "code",
   "execution_count": null,
   "metadata": {
    "id": "-JC5o69omKTK"
   },
   "outputs": [],
   "source": [
    "import pickle\n",
    "\n",
    "# Save the model using protocol version 2\n",
    "with open('mllpp.pkl', 'wb') as f:\n",
    "    pickle.dump(mlp, f, protocol=2)"
   ]
  },
  {
   "cell_type": "code",
   "execution_count": null,
   "metadata": {
    "id": "LtPa_e6XpMTO"
   },
   "outputs": [],
   "source": [
    "import pickle\n",
    "\n",
    "# Save the model using protocol version 2\n",
    "with open('svmm.pkl', 'wb') as f:\n",
    "    pickle.dump(svml_res, f, protocol=2)"
   ]
  },
  {
   "cell_type": "code",
   "execution_count": null,
   "metadata": {},
   "outputs": [],
   "source": []
  }
 ],
 "metadata": {
  "colab": {
   "provenance": []
  },
  "kernelspec": {
   "display_name": "Python 3 (ipykernel)",
   "language": "python",
   "name": "python3"
  },
  "language_info": {
   "codemirror_mode": {
    "name": "ipython",
    "version": 3
   },
   "file_extension": ".py",
   "mimetype": "text/x-python",
   "name": "python",
   "nbconvert_exporter": "python",
   "pygments_lexer": "ipython3",
   "version": "3.9.2"
  }
 },
 "nbformat": 4,
 "nbformat_minor": 1
}
